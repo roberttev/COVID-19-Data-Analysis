{
 "cells": [
  {
   "cell_type": "markdown",
   "id": "03508ee2",
   "metadata": {},
   "source": [
    "# Covid-19 Data Analysis for visualize and understanding pandemic cases\n",
    "\n"
   ]
  },
  {
   "cell_type": "code",
   "execution_count": null,
   "metadata": {},
   "outputs": [],
   "source": [
    "pip install plotly folium"
   ]
  },
  {
   "cell_type": "code",
   "execution_count": null,
   "id": "c2b2cecf",
   "metadata": {},
   "outputs": [],
   "source": [
    "#required packages and libraries\n",
    "\n",
    "import plotly.express as px\n",
    "import plotly.graph_objects as go\n",
    "import plotly.figure_factory as ff\n",
    "from plotly.subplots import make_subplots\n",
    "\n",
    "import folium\n",
    "\n",
    "import pandas as pd\n",
    "import numpy as np\n",
    "import matplotlib.pyplot as plt\n",
    "\n",
    "%matplotlib inline\n",
    "\n",
    "import math\n",
    "import random\n",
    "from datetime import timedelta\n",
    "\n",
    "import warnings\n",
    "warnings.filterwarnings('ignore')\n",
    "\n",
    "# color pallette\n",
    "cnf ='#393e46'\n",
    "dth ='#ff2e63'\n",
    "rec ='#21bf73'\n",
    "act ='#fe9801'\n"
   ]
  },
  {
   "cell_type": "markdown",
   "id": "a7aae2d3",
   "metadata": {},
   "source": [
    "## Dataset Preparation"
   ]
  },
  {
   "cell_type": "code",
   "execution_count": null,
   "id": "5e5c4bcd",
   "metadata": {},
   "outputs": [],
   "source": [
    "import plotly as py\n",
    "py.offline.init_notebook_mode(connected = True)"
   ]
  },
  {
   "cell_type": "code",
   "execution_count": null,
   "id": "98aa72c0",
   "metadata": {},
   "outputs": [],
   "source": [
    "import os"
   ]
  },
  {
   "cell_type": "code",
   "execution_count": null,
   "id": "bf40c86d",
   "metadata": {},
   "outputs": [],
   "source": [
    "# Understanding the Data\n",
    "df = pd.read_csv('Covid-19-Preprocessed-Dataset/preprocessed/covid_19_data_cleaned.csv', parse_dates=['Date'])\n",
    "df"
   ]
  },
  {
   "cell_type": "code",
   "execution_count": null,
   "id": "44b41934",
   "metadata": {},
   "outputs": [],
   "source": [
    "df['Province/State'] = df['Province/State'].fillna(\"\")\n",
    "df"
   ]
  },
  {
   "cell_type": "code",
   "execution_count": null,
   "id": "23224733",
   "metadata": {},
   "outputs": [],
   "source": [
    "country_daywise = pd.read_csv('Covid-19-Preprocessed-Dataset/preprocessed/country_daywise.csv', parse_dates=['Date'])\n",
    "countrywise = pd.read_csv('Covid-19-Preprocessed-Dataset/preprocessed/countrywise.csv')\n",
    "daywise = pd.read_csv('Covid-19-Preprocessed-Dataset/preprocessed/daywise.csv', parse_dates=['Date'])"
   ]
  },
  {
   "cell_type": "code",
   "execution_count": null,
   "id": "feee13e7",
   "metadata": {},
   "outputs": [],
   "source": [
    "country_daywise"
   ]
  },
  {
   "cell_type": "markdown",
   "id": "0a0e1fda",
   "metadata": {},
   "source": [
    "## Worldwide Total Confirmed, Recovered Cases and Deaths"
   ]
  },
  {
   "cell_type": "code",
   "execution_count": null,
   "id": "98c75b7f",
   "metadata": {},
   "outputs": [],
   "source": [
    "confirmed = df.groupby('Date').sum()['Confirmed'].reset_index()\n",
    "confirmed"
   ]
  },
  {
   "cell_type": "code",
   "execution_count": null,
   "id": "ff3cf3d8",
   "metadata": {},
   "outputs": [],
   "source": [
    "recovered = df.groupby('Date').sum()['Recovered'].reset_index()\n",
    "recovered"
   ]
  },
  {
   "cell_type": "code",
   "execution_count": null,
   "id": "26d4639e",
   "metadata": {},
   "outputs": [],
   "source": [
    "deaths = df.groupby('Date').sum()['Deaths'].reset_index()\n",
    "deaths"
   ]
  },
  {
   "cell_type": "code",
   "execution_count": null,
   "id": "a035c043",
   "metadata": {},
   "outputs": [],
   "source": [
    "df.isnull().sum()"
   ]
  },
  {
   "cell_type": "code",
   "execution_count": null,
   "id": "6e4d95fd",
   "metadata": {},
   "outputs": [],
   "source": [
    "df.query('Country == \"US\"')"
   ]
  },
  {
   "cell_type": "markdown",
   "id": "712e5c87",
   "metadata": {},
   "source": [
    "## Scatterplot Visualization"
   ]
  },
  {
   "cell_type": "code",
   "execution_count": null,
   "id": "268f529d",
   "metadata": {},
   "outputs": [],
   "source": [
    "fig = go.Figure()\n",
    "fig.add_trace(go.Scatter(x = confirmed['Date'], y= confirmed['Confirmed'], mode='lines+markers', name='Confirmed Cases', line=dict(color='Orange',width =2)))\n",
    "fig.add_trace(go.Scatter(x = recovered['Date'], y= recovered['Recovered'], mode='lines+markers', name='Recovered Cases', line=dict(color='Green', width =2)))\n",
    "fig.add_trace(go.Scatter(x = deaths['Date'], y= deaths['Deaths'], mode='lines+markers', name='Deaths', line=dict(color='Red', width=2)))\n",
    "\n",
    "fig.update_layout(title = \"WorldWide Covid-19 Cases\", xaxis_tickfont_size=14, yaxis= dict(title='Number of Cases'))\n",
    "fig.show()"
   ]
  },
  {
   "cell_type": "markdown",
   "id": "73a7fdb9",
   "metadata": {},
   "source": [
    "## Cases Density Animation On World Map"
   ]
  },
  {
   "cell_type": "code",
   "execution_count": null,
   "id": "9380324a",
   "metadata": {},
   "outputs": [],
   "source": [
    "df['Date'] = df['Date'].astype(str)"
   ]
  },
  {
   "cell_type": "code",
   "execution_count": null,
   "id": "6d874f48",
   "metadata": {},
   "outputs": [],
   "source": [
    "df.info()"
   ]
  },
  {
   "cell_type": "code",
   "execution_count": null,
   "id": "04a1e181",
   "metadata": {},
   "outputs": [],
   "source": [
    "fig =px.density_mapbox(df, lat='Lat', lon='Long', hover_name='Country', hover_data=['Confirmed', 'Recovered', 'Deaths'], animation_frame='Date',color_continuous_scale='Portland', radius=7, zoom=0,height=700)\n",
    "fig.update_layout(title='WorldWide Covid-19 Cases with TimeLapse')\n",
    "fig.update_layout(mapbox_style='open-street-map', mapbox_center_lon=0)\n",
    "fig.show()"
   ]
  },
  {
   "cell_type": "markdown",
   "id": "59633385",
   "metadata": {},
   "source": [
    "## Cases over a time period with Area Plot"
   ]
  },
  {
   "cell_type": "code",
   "execution_count": null,
   "id": "e4c3722f",
   "metadata": {},
   "outputs": [],
   "source": [
    "df['Date'] =pd.to_datetime(df['Date'])\n",
    "df.info()"
   ]
  },
  {
   "cell_type": "markdown",
   "id": "24087642",
   "metadata": {},
   "source": [
    "## Cases visualization using Folium Maps"
   ]
  },
  {
   "cell_type": "code",
   "execution_count": null,
   "id": "7d2776ea",
   "metadata": {},
   "outputs": [],
   "source": [
    "temp =df[df['Date'] == max(df['Date'])]\n",
    "\n",
    "m =folium.Map(location =[0,0], tiles='cartodbpositron', min_zoom =1, max_zoom= 4, zoom_start=1)\n",
    "\n",
    "for i in range(0, len(temp)):\n",
    "    folium.Circle(location = [temp.iloc[i]['Lat'], temp.iloc[i]['Long']], color='crimson', fill =  'crimson', \n",
    "                tooltip = '<li><bold> Country: ' + str(temp.iloc[i]['Country'])+\n",
    "                          '<li><bold> Province: ' + str(temp.iloc[i]['Province/State'])+\n",
    "                          '<li><bold> Confirmed: ' + str(temp.iloc[i]['Confirmed'])+\n",
    "                          '<li><bold> Deaths: ' + str(temp.iloc[i]['Deaths']),\n",
    "                radius = int(temp.iloc[i]['Confirmed'])**0.5).add_to(m)\n",
    "\n",
    "m"
   ]
  },
  {
   "cell_type": "markdown",
   "id": "aa122046",
   "metadata": {},
   "source": [
    "## Confirmed Cases with Choropleth Map"
   ]
  },
  {
   "cell_type": "code",
   "execution_count": null,
   "id": "4ab21e95",
   "metadata": {},
   "outputs": [],
   "source": [
    "fig = px.choropleth(country_daywise, locations='Country', locationmode='country names', color=country_daywise['Confirmed'],\n",
    "                   hover_name = 'Country', animation_frame=country_daywise['Date'].dt.strftime('%Y-%m-%d'),\n",
    "                   title = 'Cases Over Time in Different Countries', color_continuous_scale=px.colors.sequential.Inferno)\n",
    "\n",
    "fig.update(layout_coloraxis_showscale=True)\n",
    "fig.show()"
   ]
  },
  {
   "cell_type": "markdown",
   "id": "7b0588c0",
   "metadata": {},
   "source": [
    "## Confirmed & Death Cases using Bar plots"
   ]
  },
  {
   "cell_type": "code",
   "execution_count": null,
   "id": "74ba1c3b",
   "metadata": {},
   "outputs": [],
   "source": [
    "fig_c =px.bar(daywise, x='Date', y='Confirmed', color_discrete_sequence=[act])\n",
    "fig_d =px.bar(daywise, x='Date', y='Deaths', color_discrete_sequence=[dth])\n",
    "\n",
    "fig = make_subplots(rows =1, cols =2, shared_xaxes=False, horizontal_spacing= 0.1,\n",
    "                   subplot_titles=('Confirmed Cases', 'Death Cases'))\n",
    "\n",
    "fig.add_trace(fig_c['data'][0], row=1, col=1)\n",
    "fig.add_trace(fig_d['data'][0], row=1, col=2)\n",
    "\n",
    "fig.update_layout(height=400)\n",
    "fig.show()\n"
   ]
  },
  {
   "cell_type": "markdown",
   "id": "3ef73219",
   "metadata": {},
   "source": [
    "## Confirmed & Death Cases with Static Colormap"
   ]
  },
  {
   "cell_type": "code",
   "execution_count": null,
   "id": "d38469b6",
   "metadata": {},
   "outputs": [],
   "source": [
    "fig_c = px.choropleth(countrywise, locations='Country', locationmode='country names',\n",
    "                     color=np.log(countrywise['Confirmed']), hover_name='Country', hover_data=['Confirmed'])\n",
    "\n",
    "temp = countrywise[countrywise['Deaths']> 0]\n",
    "fig_d = px.choropleth(temp, locations='Country', locationmode='country names',\n",
    "                     color=np.log(temp['Deaths']), hover_name='Country', hover_data=['Deaths'])\n",
    "\n",
    "fig = make_subplots(rows=1, cols=2, subplot_titles=['Confirmed Cases', 'Deaths'], \n",
    "                   specs=[[{'type':'choropleth'},{'type':'choropleth'}]])\n",
    "\n",
    "fig.add_trace(fig_c['data'][0], row=1, col=1)\n",
    "fig.add_trace(fig_d['data'][0], row=1, col=2)\n",
    "\n",
    "fig.update(layout_coloraxis_showscale=False)\n",
    "\n",
    "fig.show()"
   ]
  },
  {
   "cell_type": "markdown",
   "id": "987bb80a",
   "metadata": {},
   "source": [
    "## Deaths & Recoveries per 100 cases"
   ]
  },
  {
   "cell_type": "markdown",
   "id": "23cba2b1",
   "metadata": {},
   "source": [
    " The Data is only accurate untill July 2021, after that time the data for recovery cases were not reported also was not being tracked by the institutes."
   ]
  },
  {
   "cell_type": "code",
   "execution_count": null,
   "id": "39a696b5",
   "metadata": {},
   "outputs": [],
   "source": [
    "daywise.columns"
   ]
  },
  {
   "cell_type": "code",
   "execution_count": null,
   "id": "eed93fa0",
   "metadata": {},
   "outputs": [],
   "source": [
    "fig1 = px.line(daywise, x='Date', y='Deaths / 100 Cases', color_discrete_sequence=[dth])\n",
    "fig2 = px.line(daywise, x='Date', y='Recovered / 100 Cases', color_discrete_sequence=[rec])\n",
    "fig3 = px.line(daywise, x='Date', y='Deaths / 100 Recovered', color_discrete_sequence=[rec])\n",
    "\n",
    "fig = make_subplots(rows =1, cols=3, shared_xaxes=False, \n",
    "                   subplot_titles=('Deaths / 100 Cases','Recovered / 100 Cases','Deaths / 100 Recovered'))\n",
    "\n",
    "fig.add_trace(fig1['data'][0], row=1,col=1)\n",
    "fig.add_trace(fig2['data'][0], row=1,col=2)\n",
    "fig.add_trace(fig3['data'][0], row=1,col=3)\n",
    "\n",
    "fig.update_layout(height=400)\n",
    "fig.show()"
   ]
  },
  {
   "cell_type": "markdown",
   "id": "262ad64f",
   "metadata": {},
   "source": [
    "## Number of new cases per Day & Countries Affected"
   ]
  },
  {
   "cell_type": "code",
   "execution_count": null,
   "id": "e8503c44",
   "metadata": {},
   "outputs": [],
   "source": [
    "fig_c = px.bar(daywise, x='Date', y='Confirmed', color_discrete_sequence=[act])\n",
    "fig_d = px.bar(daywise, x='Date', y='No. of Countries', color_discrete_sequence=[dth])\n",
    "\n",
    "fig =make_subplots(rows =1, cols=2, shared_xaxes=False, horizontal_spacing=0.1, subplot_titles=('No. of New Cases per Day', 'No. of Countries'))\n",
    "\n",
    "fig.add_trace(fig_c['data'][0], row=1, col=1)\n",
    "fig.add_trace(fig_d['data'][0], row=1, col=2)\n",
    "\n",
    "fig.show()"
   ]
  },
  {
   "cell_type": "markdown",
   "id": "95a0f8ac",
   "metadata": {},
   "source": [
    "## Top 15 Countries Case Analysis"
   ]
  },
  {
   "cell_type": "code",
   "execution_count": null,
   "id": "8130b3b9",
   "metadata": {},
   "outputs": [],
   "source": [
    "countrywise.columns"
   ]
  },
  {
   "cell_type": "code",
   "execution_count": null,
   "id": "f82052a6",
   "metadata": {},
   "outputs": [],
   "source": [
    "%%javascript\n",
    "IPython.OutputArea.prototype._should_scroll = function(lines) {\n",
    "    return false;\n",
    "}"
   ]
  },
  {
   "cell_type": "code",
   "execution_count": null,
   "id": "f6d8bdc1",
   "metadata": {
    "scrolled": true
   },
   "outputs": [],
   "source": [
    "top =15\n",
    "\n",
    "# confirmed cases\n",
    "fig_c = px.bar(countrywise.sort_values('Confirmed').tail(top), x='Confirmed', y='Country',\n",
    "              text = 'Confirmed', orientation='h', color_discrete_sequence=[cnf])\n",
    "\n",
    "# death cases\n",
    "fig_d = px.bar(countrywise.sort_values('Deaths').tail(top), x='Deaths', y='Country',\n",
    "              text = 'Deaths', orientation='h', color_discrete_sequence=[dth])\n",
    "\n",
    "# active cases\n",
    "fig_a = px.bar(countrywise.sort_values('Active').tail(top), x='Active', y='Country',\n",
    "              text = 'Active', orientation='h', color_discrete_sequence=[act])\n",
    "\n",
    "# deaths / 100 cases\n",
    "fig_dc = px.bar(countrywise.sort_values('Deaths / 100 Cases').tail(top), x='Deaths / 100 Cases', y='Country',\n",
    "              text = 'Deaths / 100 Cases', orientation='h', color_discrete_sequence=['#ff0000'])\n",
    "\n",
    "\n",
    "# new cases country wise\n",
    "fig_nc = px.bar(countrywise.sort_values('New Cases').tail(top), x='New Cases', y='Country',\n",
    "              text = 'New Cases', orientation='h', color_discrete_sequence=['#944dff'])\n",
    "\n",
    "temp= countrywise[countrywise['Population']>1000000]\n",
    "# cases per million people\n",
    "fig_p = px.bar(temp.sort_values('Cases / Million People').tail(top), x='Cases / Million People', y='Country',\n",
    "              text = 'Cases / Million People', orientation='h', color_discrete_sequence=['#3366ff'])\n",
    "\n",
    "# 1 week changes\n",
    "fig_ow = px.bar(countrywise.sort_values('1 week change').tail(top), x='1 week change', y='Country',\n",
    "              text = '1 week change', orientation='h', color_discrete_sequence=['#ff6600'])\n",
    "\n",
    "# 1 week % increase\n",
    "tem= countrywise[countrywise['Confirmed']>100]\n",
    "fig_op = px.bar(tem.sort_values('1 week % increase').tail(top), x='1 week % increase', y='Country',\n",
    "              text = '1 week % increase', orientation='h', color_discrete_sequence=['#990033'])\n",
    "\n",
    "\n",
    "\n",
    "fig= make_subplots(rows=4 , cols=2, shared_xaxes=False, horizontal_spacing= 0.2, vertical_spacing=.05,\n",
    "                  subplot_titles=('Confirmed Cases', 'Deaths Reported', 'Active Cases', 'Deaths / 100 Cases'\n",
    "                                 ,'New Cases', 'Cases / Million People', '1 week change', '1 week % increase'))\n",
    "\n",
    "fig.add_trace(fig_c['data'][0], row=1, col=1)\n",
    "fig.add_trace(fig_d['data'][0], row=1, col=2)\n",
    "\n",
    "fig.add_trace(fig_a['data'][0], row=2, col=1)\n",
    "fig.add_trace(fig_dc['data'][0], row=2, col=2)\n",
    "\n",
    "\n",
    "fig.add_trace(fig_nc['data'][0], row=3, col=1)\n",
    "fig.add_trace(fig_p['data'][0], row=3, col=2)\n",
    "\n",
    "\n",
    "fig.add_trace(fig_ow['data'][0], row=4, col=1)\n",
    "fig.add_trace(fig_op['data'][0], row=4, col=2)\n",
    "\n",
    "\n",
    "fig.update_layout(height=3000)\n",
    "fig.show()"
   ]
  },
  {
   "cell_type": "markdown",
   "id": "54e4dadb",
   "metadata": {},
   "source": [
    "## Scatter Plot for Deaths VS Confirmed Cases"
   ]
  },
  {
   "cell_type": "code",
   "execution_count": null,
   "id": "c03b7d19",
   "metadata": {},
   "outputs": [],
   "source": [
    "countrywise.sort_values('Deaths', ascending=False).head(15)"
   ]
  },
  {
   "cell_type": "code",
   "execution_count": null,
   "id": "6877f24f",
   "metadata": {},
   "outputs": [],
   "source": [
    "top =15\n",
    "fig = px.scatter(countrywise.sort_values('Deaths', ascending=False).head(top), \n",
    "                x = 'Confirmed', y='Deaths', color='Country', height=600, size='Confirmed',\n",
    "                text='Country', log_x = True, log_y = True, title='Deaths vs Confirmed Cases(Cases are on log10 scale)')\n",
    "\n",
    "fig.update_traces(textposition= 'top center')\n",
    "fig.update_layout(showlegend = True)\n",
    "fig.update_layout(xaxis_rangeslider_visible = True)\n",
    "fig.show()"
   ]
  },
  {
   "cell_type": "markdown",
   "id": "f3d46c69",
   "metadata": {},
   "source": [
    "## Stacked Bar Plot"
   ]
  },
  {
   "cell_type": "code",
   "execution_count": null,
   "id": "280e62e7",
   "metadata": {},
   "outputs": [],
   "source": [
    "fig = px.bar(country_daywise, x='Date', y='Confirmed', color='Country', height=600,\n",
    "            title='Confirmed Cases', color_discrete_sequence=px.colors.cyclical.mygbm)\n",
    "fig.show()"
   ]
  },
  {
   "cell_type": "code",
   "execution_count": null,
   "id": "495c0535",
   "metadata": {},
   "outputs": [],
   "source": [
    "fig = px.bar(country_daywise, x='Date', y='Deaths', color='Country', height=600,\n",
    "            title='Deaths', color_discrete_sequence=px.colors.cyclical.mygbm)\n",
    "fig.show()"
   ]
  },
  {
   "cell_type": "code",
   "execution_count": null,
   "id": "d9fa2a02",
   "metadata": {},
   "outputs": [],
   "source": [
    "fig = px.bar(country_daywise, x='Date', y='New Cases', color='Country', height=600,\n",
    "            title='New Cases', color_discrete_sequence=px.colors.cyclical.mygbm)\n",
    "fig.show()"
   ]
  },
  {
   "cell_type": "markdown",
   "id": "2cad1d55",
   "metadata": {},
   "source": [
    "## Line Plot"
   ]
  },
  {
   "cell_type": "code",
   "execution_count": null,
   "id": "e80d8b4d",
   "metadata": {},
   "outputs": [],
   "source": [
    "fig = px.line(country_daywise, x ='Date', y='Confirmed', color='Country', height=600, title='Confirmed Cases',\n",
    "             color_discrete_sequence=px.colors.cyclical.mygbm)\n",
    "fig.show()"
   ]
  },
  {
   "cell_type": "code",
   "execution_count": null,
   "id": "d710e40f",
   "metadata": {},
   "outputs": [],
   "source": [
    "fig = px.line(country_daywise, x ='Date', y='Deaths', color='Country', height=600, title='Deaths',\n",
    "             color_discrete_sequence=px.colors.cyclical.mygbm)\n",
    "fig.show()"
   ]
  },
  {
   "cell_type": "code",
   "execution_count": null,
   "id": "92ca2547",
   "metadata": {},
   "outputs": [],
   "source": [
    "fig = px.line(country_daywise, x ='Date', y='New Cases', color='Country', height=600, title='New Cases',\n",
    "             color_discrete_sequence=px.colors.cyclical.mygbm)\n",
    "fig.show()"
   ]
  },
  {
   "cell_type": "markdown",
   "id": "f8a64f9e",
   "metadata": {},
   "source": [
    "### Growth rate after 100K Cases"
   ]
  },
  {
   "cell_type": "code",
   "execution_count": null,
   "id": "e8c3d7a5",
   "metadata": {},
   "outputs": [],
   "source": [
    "gt_100000 = country_daywise[country_daywise['Confirmed']>100000]['Country'].unique()\n",
    "temp = df[df['Country'].isin(gt_100000)]\n",
    "\n",
    "temp = temp.groupby(['Country', 'Date'])['Confirmed'].sum().reset_index()\n",
    "temp =temp[temp['Confirmed']>100000]\n",
    "\n",
    "min_date = temp.groupby('Country')['Date'].min().reset_index()\n",
    "min_date.columns = ['Country', 'Min Date']\n",
    "\n",
    "from_100000th_case = pd.merge(temp, min_date,on ='Country')\n",
    "from_100000th_case['N days'] = (from_100000th_case['Date'] - from_100000th_case['Min Date']).dt.days\n",
    "\n",
    "fig = px.line(from_100000th_case, x = 'N days', y='Confirmed', color='Country', title='N Days From 100K Cases', height=600)\n",
    "fig.show()"
   ]
  },
  {
   "cell_type": "markdown",
   "id": "d96cbb02",
   "metadata": {},
   "source": [
    "### Growth rate after 1Million Cases"
   ]
  },
  {
   "cell_type": "code",
   "execution_count": null,
   "id": "416e3e28",
   "metadata": {},
   "outputs": [],
   "source": [
    "gt_1000000 = country_daywise[country_daywise['Confirmed']>1000000]['Country'].unique()\n",
    "temp = df[df['Country'].isin(gt_1000000)]\n",
    "\n",
    "temp = temp.groupby(['Country', 'Date'])['Confirmed'].sum().reset_index()\n",
    "temp =temp[temp['Confirmed']>1000000]\n",
    "\n",
    "min_date = temp.groupby('Country')['Date'].min().reset_index()\n",
    "min_date.columns = ['Country', 'Min Date']\n",
    "\n",
    "from_1000000th_case = pd.merge(temp, min_date,on ='Country')\n",
    "from_1000000th_case['N days'] = (from_1000000th_case['Date'] - from_1000000th_case['Min Date']).dt.days\n",
    "\n",
    "fig = px.line(from_1000000th_case, x = 'N days', y='Confirmed', color='Country', title='N Days From 1Million Cases', height=600)\n",
    "fig.show()"
   ]
  },
  {
   "cell_type": "markdown",
   "id": "b186ca34",
   "metadata": {},
   "source": [
    "### Growth rate after 10Million Cases"
   ]
  },
  {
   "cell_type": "code",
   "execution_count": null,
   "id": "74337583",
   "metadata": {},
   "outputs": [],
   "source": [
    "gt_10000000 = country_daywise[country_daywise['Confirmed']>10000000]['Country'].unique()\n",
    "temp = df[df['Country'].isin(gt_10000000)]\n",
    "\n",
    "temp = temp.groupby(['Country', 'Date'])['Confirmed'].sum().reset_index()\n",
    "temp =temp[temp['Confirmed']>10000000]\n",
    "\n",
    "min_date = temp.groupby('Country')['Date'].min().reset_index()\n",
    "min_date.columns = ['Country', 'Min Date']\n",
    "\n",
    "from_10000000th_case = pd.merge(temp, min_date,on ='Country')\n",
    "from_10000000th_case['N days'] = (from_10000000th_case['Date'] - from_10000000th_case['Min Date']).dt.days\n",
    "\n",
    "fig = px.line(from_10000000th_case, x = 'N days', y='Confirmed', color='Country', title='N Days From 10Million Cases', height=600)\n",
    "fig.show()"
   ]
  },
  {
   "cell_type": "markdown",
   "id": "ab4c281e",
   "metadata": {},
   "source": [
    "## Tree Map Analysis"
   ]
  },
  {
   "cell_type": "code",
   "execution_count": null,
   "id": "cf5f0678",
   "metadata": {},
   "outputs": [],
   "source": [
    "full_latest = df[df['Date'] == max(df['Date'])]\n",
    "\n",
    "fig = px.treemap(full_latest.sort_values(by='Confirmed', ascending=False).reset_index(drop=True),\n",
    "                path = ['Country', 'Province/State'], values='Confirmed', height=700,\n",
    "                title='Number of Confirmed Cases',\n",
    "                color_discrete_sequence=px.colors.qualitative.Dark2)\n",
    "\n",
    "fig.data[0].textinfo= 'label+text+value'\n",
    "fig.show()"
   ]
  },
  {
   "cell_type": "code",
   "execution_count": null,
   "id": "2679ab9d",
   "metadata": {},
   "outputs": [],
   "source": [
    "full_latest = df[df['Date'] == max(df['Date'])]\n",
    "\n",
    "fig = px.treemap(full_latest.sort_values(by='Deaths', ascending=False).reset_index(drop=True),\n",
    "                path = ['Country', 'Province/State'], values='Deaths', height=700,\n",
    "                title='Number of Deaths',\n",
    "                color_discrete_sequence=px.colors.qualitative.Dark2)\n",
    "\n",
    "fig.data[0].textinfo= 'label+text+value'\n",
    "fig.show()"
   ]
  },
  {
   "cell_type": "markdown",
   "id": "7c450aca",
   "metadata": {},
   "source": [
    "## Confirmed Cases Country & Day Wise"
   ]
  },
  {
   "cell_type": "code",
   "execution_count": null,
   "id": "53f680f6",
   "metadata": {},
   "outputs": [],
   "source": [
    "temp = country_daywise.groupby(['Country', 'Date'])['Confirmed'].sum().reset_index()\n",
    "temp = temp[temp['Country'].isin(gt_10000000)]\n",
    "\n",
    "countries= temp['Country'].unique()\n",
    "\n",
    "\n",
    "ncols = 3\n",
    "nrows = math.ceil(len(countries)/ncols)\n",
    "\n",
    "fig = make_subplots(rows = nrows, cols= ncols, shared_xaxes= False, subplot_titles= countries)\n",
    "\n",
    "for ind, country in enumerate(countries):\n",
    "    row = int((ind/ncols)+1)\n",
    "    col = int((ind%ncols)+1)\n",
    "    fig.add_trace(go.Bar(x= temp['Date'], y=temp.loc[temp['Country']== country, 'Confirmed'], name=country), row= row, col=col)\n",
    "    \n",
    "fig.update_layout(height=4000, title_text='Confirmed Cases in each Country')    \n",
    "fig.update_layout(showlegend=False)\n",
    "fig.show()\n"
   ]
  },
  {
   "cell_type": "markdown",
   "id": "f5dbaf9f",
   "metadata": {},
   "source": [
    "## Covid-19 VS Other Similar Epidemics"
   ]
  },
  {
   "cell_type": "code",
   "execution_count": null,
   "id": "8f48afdc",
   "metadata": {},
   "outputs": [],
   "source": [
    "# Source for the number wikipedia\n",
    "epidemics = pd.DataFrame({\n",
    "    'epidemic' :['COVID-19', 'SARS', 'EBOLA', 'MERS', 'H1N1'],\n",
    "    'start_year' : [2019, 2002, 2013, 2012, 2009],\n",
    "    'end_year' :[2020, 2004, 2016, 2020, 2010],\n",
    "    'confirmed' :[full_latest['Confirmed'].sum(), 8422, 28646, 2519, 6724149],\n",
    "    'deaths': [full_latest['Deaths'].sum(), 813, 11323, 866, 19654]\n",
    "})\n"
   ]
  },
  {
   "cell_type": "code",
   "execution_count": null,
   "id": "e4c4b0de",
   "metadata": {},
   "outputs": [],
   "source": [
    "# Calculating mortality rate\n",
    "epidemics['mortality'] =round((epidemics['deaths']/epidemics['confirmed'])*100, 2)\n",
    "\n",
    "temp = epidemics.melt(id_vars='epidemic', value_vars=['confirmed', 'deaths', 'mortality'], \n",
    "                     var_name='Case', value_name='Value')\n",
    "\n",
    "fig= px.bar(temp, x='epidemic', y='Value', color= 'epidemic', text='Value', facet_col='Case',\n",
    "           color_discrete_sequence=px.colors.qualitative.Bold)\n",
    "\n",
    "fig.update_traces(textposition='outside')\n",
    "fig.update_layout(uniformtext_minsize=8, uniformtext_mode= 'hide')\n",
    "fig.update_yaxes(showticklabels= False)\n",
    "fig.layout.yaxis2.update(matches = None)\n",
    "fig.layout.yaxis3.update(matches = None)\n",
    "fig.show()"
   ]
  }
 ],
 "metadata": {
  "kernelspec": {
   "display_name": "Python 3 (ipykernel)",
   "language": "python",
   "name": "python3"
  },
  "language_info": {
   "codemirror_mode": {
    "name": "ipython",
    "version": 3
   },
   "file_extension": ".py",
   "mimetype": "text/x-python",
   "name": "python",
   "nbconvert_exporter": "python",
   "pygments_lexer": "ipython3",
   "version": "3.11.6"
  }
 },
 "nbformat": 4,
 "nbformat_minor": 5
}
